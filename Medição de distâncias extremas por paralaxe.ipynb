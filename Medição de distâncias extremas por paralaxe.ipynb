{
 "cells": [
  {
   "cell_type": "markdown",
   "source": [
    "# Medindo distâncias extremas por paralaxe"
   ],
   "metadata": {}
  },
  {
   "cell_type": "markdown",
   "source": [
    "### Nesse projeto utilizo dados abertos do projeto GAIA para descobrir a distância até as estrelas do sistema binário de Sirius.\r\n",
    "\r\n",
    "Esse projeto foi inspirado por [esse](https://www.youtube.com/watch?v=w0Xc4qZPzp4) vídeo do canal Café e Ciência."
   ],
   "metadata": {}
  },
  {
   "cell_type": "code",
   "execution_count": 2,
   "source": [
    "import pandas\r\n",
    "import matplotlib.pyplot as plot"
   ],
   "outputs": [],
   "metadata": {}
  },
  {
   "cell_type": "code",
   "execution_count": null,
   "source": [],
   "outputs": [],
   "metadata": {}
  }
 ],
 "metadata": {
  "orig_nbformat": 4,
  "language_info": {
   "name": "python",
   "version": "3.8.8",
   "mimetype": "text/x-python",
   "codemirror_mode": {
    "name": "ipython",
    "version": 3
   },
   "pygments_lexer": "ipython3",
   "nbconvert_exporter": "python",
   "file_extension": ".py"
  },
  "kernelspec": {
   "name": "python3",
   "display_name": "Python 3.8.8 64-bit ('env')"
  },
  "interpreter": {
   "hash": "16fd7e227a9e3560a232ffef4f567d68734413e08ee23e0b48ff0103b5d50c03"
  }
 },
 "nbformat": 4,
 "nbformat_minor": 2
}